{
 "cells": [
  {
   "cell_type": "code",
   "execution_count": 14,
   "id": "fceba92e",
   "metadata": {},
   "outputs": [],
   "source": [
    "import numpy as np\n",
    "import pandas as pd\n",
    "import matplotlib.pyplot as plt\n",
    "import math\n",
    "from random import randint"
   ]
  },
  {
   "cell_type": "markdown",
   "id": "f4048f6f",
   "metadata": {},
   "source": [
    "1. Use matplotlib to plot the following equation:\n",
    "\n",
    " $y = x^2−x+2$\n",
    "\n",
    "You'll need to write the code that generates the x and y points.\n",
    "\n",
    "Add an anotation for the point 0, 0, the origin."
   ]
  },
  {
   "cell_type": "code",
   "execution_count": 27,
   "id": "6cf96843",
   "metadata": {},
   "outputs": [],
   "source": [
    "x = [0,5,10,15,20,25,30,35,40,45,50]\n",
    "y = [n**2 - n + 2 for n in x]"
   ]
  },
  {
   "cell_type": "code",
   "execution_count": 44,
   "id": "7758820a",
   "metadata": {},
   "outputs": [
    {
     "data": {
      "text/plain": [
       "[<matplotlib.lines.Line2D at 0x7f889ec47880>]"
      ]
     },
     "execution_count": 44,
     "metadata": {},
     "output_type": "execute_result"
    },
    {
     "data": {
      "image/png": "[encoded data removed]",
      "text/plain": [
       "<Figure size 640x480 with 1 Axes>"
      ]
     },
     "metadata": {},
     "output_type": "display_data"
    }
   ],
   "source": [
    "\n",
    "plt.annotate('Origin', xy=(0,0), xytext=(0, 400), arrowprops={'facecolor':'blue'})\n",
    "plt.plot(x,y)"
   ]
  },
  {
   "cell_type": "markdown",
   "id": "d606db53",
   "metadata": {},
   "source": [
    "2. Create and label 4 separate charts for the following equations (choose a range for x that makes sense):\n",
    "\n",
    "- $y=√x$\n",
    "- $y=x^3$\n",
    "- $y=2^x$\n",
    "- $y=1/(x+1)$\n",
    "\n",
    "You can use functions from the math module to help implement some of the equations above."
   ]
  },
  {
   "cell_type": "code",
   "execution_count": null,
   "id": "98cc23d8",
   "metadata": {},
   "outputs": [],
   "source": []
  },
  {
   "cell_type": "markdown",
   "id": "2ffa43f0",
   "metadata": {},
   "source": [
    "3. Combine the figures you created in the last step into one large figure with 4 subplots."
   ]
  },
  {
   "cell_type": "code",
   "execution_count": null,
   "id": "ec9d5af4",
   "metadata": {},
   "outputs": [],
   "source": []
  },
  {
   "cell_type": "markdown",
   "id": "88d906cd",
   "metadata": {},
   "source": [
    "4. Combine the figures you created in the last step into one figure where each of the 4 equations has a different color for the points. Be sure to include a legend and an appropriate title for the figure."
   ]
  },
  {
   "cell_type": "code",
   "execution_count": null,
   "id": "063222c2",
   "metadata": {},
   "outputs": [],
   "source": []
  },
  {
   "cell_type": "markdown",
   "id": "6dea31ae",
   "metadata": {},
   "source": [
    "5. Make a new Jupyter notebook named big_o_notation.ipynb\n",
    "\n",
    "- Title your chart \"Big O Notation\"\n",
    "- Label your x axis \"Elements\"\n",
    "- Label your y axis \"Operations\"\n",
    "- Label your curves or make a legend for the curves\n",
    "- Use LaTex notation where possible\n",
    "\n",
    "Curves to graph\n",
    "\n",
    "- $y=0n+1$ and label the curve \"O(1)\"\n",
    "- $y=log(n)$ and label the curve \"O(log n)\"\n",
    "- $y = n$ and label the curve \"O(n)\"\n",
    "- $y = n * log(n)$ and label it \"O(n log n)\"\n",
    "- $y = n^2$ and label it \"O(n^2)\"\n",
    "- $y = 2^n$ and label it \"O(2^n)\"\n",
    "- $y = n!$ and label it \"O(n!)\"\n",
    "- $y = n^n$ and label it \"O(n^n)\""
   ]
  },
  {
   "cell_type": "code",
   "execution_count": null,
   "id": "1d631152",
   "metadata": {},
   "outputs": [],
   "source": []
  },
  {
   "cell_type": "markdown",
   "id": "365a5701",
   "metadata": {},
   "source": [
    "## Bonus:"
   ]
  },
  {
   "cell_type": "markdown",
   "id": "036ba9b6",
   "metadata": {},
   "source": [
    "6. Write the code necessary to write your name on a chart. Use box letters."
   ]
  },
  {
   "cell_type": "code",
   "execution_count": null,
   "id": "d4ae6fff",
   "metadata": {},
   "outputs": [],
   "source": []
  },
  {
   "cell_type": "markdown",
   "id": "8a95a154",
   "metadata": {},
   "source": [
    "7. Use curves for letters in your name that have curves in them."
   ]
  },
  {
   "cell_type": "code",
   "execution_count": null,
   "id": "baf82c03",
   "metadata": {},
   "outputs": [],
   "source": []
  }
 ],
 "metadata": {
  "kernelspec": {
   "display_name": "Python 3 (ipykernel)",
   "language": "python",
   "name": "python3"
  },
  "language_info": {
   "codemirror_mode": {
    "name": "ipython",
    "version": 3
   },
   "file_extension": ".py",
   "mimetype": "text/x-python",
   "name": "python",
   "nbconvert_exporter": "python",
   "pygments_lexer": "ipython3",
   "version": "3.9.12"
  }
 },
 "nbformat": 4,
 "nbformat_minor": 5
}
